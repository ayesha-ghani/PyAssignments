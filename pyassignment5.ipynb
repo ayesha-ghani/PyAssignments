{
 "cells": [
  {
   "cell_type": "code",
   "execution_count": 1,
   "metadata": {},
   "outputs": [
    {
     "name": "stdout",
     "output_type": "stream",
     "text": [
      " enter a number 7\n",
      "7 factorial is 5040\n"
     ]
    }
   ],
   "source": [
    "#Question:1\n",
    "#Write a Python function to calculate the factorial of a number (a non-negative\n",
    "#integer). The function accepts the number as an argument.\n",
    "\n",
    "\n",
    "def factorial(number):             # define factorial as a function\n",
    "    f = 1\n",
    "    for n in range(2, number + 1):\n",
    "        f = f * n\n",
    "    return f\n",
    "\n",
    "                  # define another function for user input\n",
    "number = int(input(\" enter a number \"))\n",
    "if number < 0:\n",
    "    print(\"Sorry, factorial does not exist for negative numbers\")\n",
    "elif number == 0:\n",
    "    print(\"The factorial of 0 is 1\")\n",
    "else: \n",
    "    f = factorial(number)          # call your factorial function\n",
    "    print(number,'factorial is',f)"
   ]
  },
  {
   "cell_type": "code",
   "execution_count": 2,
   "metadata": {},
   "outputs": [
    {
     "name": "stdout",
     "output_type": "stream",
     "text": [
      "ayeshaA\n",
      "Original String :  ayeshaA\n",
      "No. of Upper case characters :  1\n",
      "No. of Lower case Characters :  6\n"
     ]
    }
   ],
   "source": [
    "#Question:2\n",
    "#Write a Python function that accepts a string and calculate the number of upper\n",
    "#case letters and lower case letters.\n",
    "\n",
    "\n",
    "def string_count(s):\n",
    "    d={\"UPPER_CASE\":0, \"LOWER_CASE\":0}\n",
    "    for c in s:\n",
    "        if c.isupper():\n",
    "           d[\"UPPER_CASE\"]+=1\n",
    "        elif c.islower():\n",
    "           d[\"LOWER_CASE\"]+=1\n",
    "        else:\n",
    "           pass\n",
    "    print (\"Original String : \", s)\n",
    "    print (\"No. of Upper case characters : \", d[\"UPPER_CASE\"])\n",
    "    print (\"No. of Lower case Characters : \", d[\"LOWER_CASE\"])\n",
    "\n",
    "string = input()\n",
    "string_count(string)"
   ]
  },
  {
   "cell_type": "code",
   "execution_count": 3,
   "metadata": {},
   "outputs": [
    {
     "name": "stdout",
     "output_type": "stream",
     "text": [
      "ENTER THE NO. OF ELEMENTS 7\n",
      "3\n",
      "34\n",
      "23\n",
      "23\n",
      "56\n",
      "78\n",
      "54\n",
      "Even Numbers in your List are  [34, 56, 78, 54]\n"
     ]
    }
   ],
   "source": [
    "#Question:3\n",
    "#Write a Python function to print the even numbers from a given list.\n",
    "\n",
    "\n",
    "list1 = []\n",
    "list2 = []\n",
    "\n",
    "n = int(input(\"ENTER THE NO. OF ELEMENTS \"))\n",
    "\n",
    "for i in range(0,n):\n",
    "    number = int(input())\n",
    "    \n",
    "    list1.append(number)\n",
    "    \n",
    "for i in list1:\n",
    "    if i % 2 == 0:\n",
    "        list2.append(i)\n",
    "     \n",
    "print(\"Even Numbers in your List are \",list2)  "
   ]
  },
  {
   "cell_type": "code",
   "execution_count": 4,
   "metadata": {},
   "outputs": [
    {
     "name": "stdout",
     "output_type": "stream",
     "text": [
      "Enter string:madam\n",
      "String is a palindrome!\n"
     ]
    }
   ],
   "source": [
    "#Question:4\n",
    "#Write a Python function that checks whether a passed string is palindrome or not.\n",
    "#Note: A palindrome is a word, phrase, or sequence that reads the same\n",
    "#backward as forward, e.g., madam\n",
    "\n",
    "\n",
    "def is_palindrome(s):\n",
    "    if len(s) < 1:\n",
    "        return True\n",
    "    else:\n",
    "        if s[0] == s[-1]:\n",
    "            return is_palindrome(s[1:-1])\n",
    "        else:\n",
    "            return False\n",
    "a=str(input(\"Enter string:\"))\n",
    "if(is_palindrome(a)==True):\n",
    "    print(\"String is a palindrome!\")\n",
    "else:\n",
    "    print(\"String isn't a palindrome!\")"
   ]
  },
  {
   "cell_type": "code",
   "execution_count": 8,
   "metadata": {},
   "outputs": [
    {
     "name": "stdout",
     "output_type": "stream",
     "text": [
      "Enter The Number 89\n",
      "Number is prime\n"
     ]
    }
   ],
   "source": [
    "#Question:5\n",
    "#Write a Python function that takes a number as a parameter and check the\n",
    "#number is prime or not.\n",
    "\n",
    "def test_prime(num):\n",
    "    if (num==1):\n",
    "        return False\n",
    "    elif (num==2):\n",
    "        return True;\n",
    "    else:\n",
    "        for x in range(2, num):\n",
    "            if(num % x==0):\n",
    "                return False\n",
    "        return True             \n",
    "\n",
    "number = int(input(\"Enter The Number \"))\n",
    "check = test_prime(number)\n",
    "if (check):\n",
    "    print(\"Number is prime\")\n",
    "else:\n",
    "    print(\"Number is not prime\")\n",
    "\n"
   ]
  },
  {
   "cell_type": "code",
   "execution_count": 9,
   "metadata": {},
   "outputs": [
    {
     "name": "stdout",
     "output_type": "stream",
     "text": [
      "Enter -1 to end list items\n",
      "jam\n",
      "butter\n",
      "burger\n",
      "pepsi\n",
      "maggi\n",
      "shoes\n",
      "clothes\n",
      "-1\n",
      "['jam', 'butter', 'burger', 'pepsi', 'maggi', 'shoes', 'clothes']\n"
     ]
    }
   ],
   "source": [
    "#Question: 6\n",
    "#Suppose a customer is shopping in a market and you need to print all the items\n",
    "#which user bought from market.\n",
    "#Write a function which accepts the multiple arguments of user shopping list and\n",
    "#print all the items which user bought from market.\n",
    "\n",
    "\n",
    "print(\"Enter -1 to end list items\")\n",
    "list = []\n",
    "\n",
    "def Items_List(items):\n",
    "    list.append(items)\n",
    "    \n",
    "\n",
    "\n",
    "    \n",
    "while(True):\n",
    "    items = input()\n",
    "    if items != \"-1\":\n",
    "        Items_List(items)\n",
    "    elif items == \"-1\":\n",
    "        break\n",
    "\n",
    "print(list)\n",
    "\n",
    "   \n",
    "    "
   ]
  },
  {
   "cell_type": "code",
   "execution_count": null,
   "metadata": {},
   "outputs": [],
   "source": []
  }
 ],
 "metadata": {
  "kernelspec": {
   "display_name": "Python 3",
   "language": "python",
   "name": "python3"
  },
  "language_info": {
   "codemirror_mode": {
    "name": "ipython",
    "version": 3
   },
   "file_extension": ".py",
   "mimetype": "text/x-python",
   "name": "python",
   "nbconvert_exporter": "python",
   "pygments_lexer": "ipython3",
   "version": "3.7.4"
  }
 },
 "nbformat": 4,
 "nbformat_minor": 2
}
