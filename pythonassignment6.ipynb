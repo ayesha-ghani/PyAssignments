{
 "cells": [
  {
   "cell_type": "code",
   "execution_count": 2,
   "metadata": {},
   "outputs": [
    {
     "name": "stdout",
     "output_type": "stream",
     "text": [
      "XLI\n",
      "Black\n",
      "Corolla\n",
      "Toyota\n",
      "1300cc\n"
     ]
    }
   ],
   "source": [
    "#Question 5:\n",
    "#Write a code in python in which create a class named it Car which\n",
    "#have 5 attributes such like (model, color and name etc.) and 3\n",
    "#methods. And create 5 object instance from that class.\n",
    "\n",
    "\n",
    "class Car():\n",
    "    def __init__(self,model,color,name,company):\n",
    "        self.model = model\n",
    "        self.color = color\n",
    "        self.name = name\n",
    "        self.company = company\n",
    "        self.engine_capacity = \"1300cc\"\n",
    "        \n",
    "\n",
    "    def start(self):\n",
    "        print (\"Engine started\")    \n",
    "    \n",
    "    def stop(self):\n",
    "        print (\"Engine switched off\")\n",
    "        \n",
    "    def seized(self): \n",
    "        print (\"Engine is seized up\")\n",
    "        \n",
    "        \n",
    "car1 = Car('XLI','Black','Corolla','Toyota')\n",
    "print(car1.model)\n",
    "print(car1.color)\n",
    "print(car1.name)\n",
    "print(car1.company)\n",
    "print(car1.engine_capacity)\n"
   ]
  },
  {
   "cell_type": "code",
   "execution_count": 5,
   "metadata": {},
   "outputs": [
    {
     "name": "stdout",
     "output_type": "stream",
     "text": [
      "Object-oriented programming (OOP) refers to a type of computer programming (software design) in which programmers define the data type of a data structure, and also the types of operations (functions) that can be applied to the data structure.In this way, the data structure becomes an object that includes both data and functions. In addition, programmers can create relationships between one object and another.\n"
     ]
    }
   ],
   "source": [
    "#Question 1:\n",
    "#Define Object Oriented Programming Language?\n",
    "\n",
    "\n",
    "print(\"Object-oriented programming (OOP) refers to a type of computer programming (software design) in which programmers define the data type of a data structure, and also the types of operations (functions) that can be applied to the data structure.In this way, the data structure becomes an object that includes both data and functions. In addition, programmers can create relationships between one object and another.\")"
   ]
  },
  {
   "cell_type": "code",
   "execution_count": 6,
   "metadata": {},
   "outputs": [
    {
     "name": "stdout",
     "output_type": "stream",
     "text": [
      "One of the principal advantages of object-oriented programming techniques over procedural programming techniques is that they enable programmers to create modules that do not need to be changed when a new type of object is added. A programmer can simply create a new object that inherits many of its features from existing objects. This makes object-oriented programs easier to modify.\n"
     ]
    }
   ],
   "source": [
    "#Question 2:\n",
    "#List down the Benefits of OOP?\n",
    "\n",
    "\n",
    "print(\"One of the principal advantages of object-oriented programming techniques over procedural programming techniques is that they enable programmers to create modules that do not need to be changed when a new type of object is added. A programmer can simply create a new object that inherits many of its features from existing objects. This makes object-oriented programs easier to modify.\")"
   ]
  },
  {
   "cell_type": "code",
   "execution_count": 10,
   "metadata": {},
   "outputs": [
    {
     "name": "stdout",
     "output_type": "stream",
     "text": [
      "Function is a segment of code that executes an action and gives out a reply.‘Method’ is a segment occurring as a series of statements and is executed upon initiation of arguments in the method.The existence of functions is independent, while methods do not have an independent existence.The definition of a function occurs in languages such as Pascal, JavaScript, and C, while a method is defined in object-oriented languages, with the most common being Java and C#.Functions are called independently while an instance or object is used to call methods.The functions are a self-describing unit of code, while methods can be used to manipulate an instance variable of a given class which is of interest.\n"
     ]
    }
   ],
   "source": [
    "#Question 3:\n",
    "#Differentiate between function and method?\n",
    "\n",
    "\n",
    "\n",
    "\n",
    "print(\"Function is a segment of code that executes an action and gives out a reply.‘Method’ is a segment occurring as a series of statements and is executed upon initiation of arguments in the method.The existence of functions is independent, while methods do not have an independent existence.The definition of a function occurs in languages such as Pascal, JavaScript, and C, while a method is defined in object-oriented languages, with the most common being Java and C#.Functions are called independently while an instance or object is used to call methods.The functions are a self-describing unit of code, while methods can be used to manipulate an instance variable of a given class which is of interest.\")\n"
   ]
  },
  {
   "cell_type": "code",
   "execution_count": 16,
   "metadata": {},
   "outputs": [
    {
     "name": "stdout",
     "output_type": "stream",
     "text": [
      "class:a class describes the contents of the objects that belong to it: it describes an aggregate of data fields (called instance variables), and defines the operations called methods\n",
      "object:an object is an element (or instance) of a class objects have the behaviors of their class. The object is the actual component of programs, while the class specifies how instances are created and how they behave.\n",
      "Attributes:Attributes are the individual things that differentiate one object from another and determine the appearance, state, or other qualities of that object\n",
      "Behavior:A class's behavior determines how an instance of that class operates; for example, how it will react if asked to do something by another class or object or if its internal state changes. Behavior is the only way objects can do anything to themselves or have anything done to them.\n"
     ]
    }
   ],
   "source": [
    "\"\"#Question 4:\n",
    "#Define the following terms:\n",
    "#1. Class\n",
    "#2. Object\n",
    "#3. Attribute\n",
    "#4. Behavior\n",
    "\n",
    "\n",
    "print(\"class:a class describes the contents of the objects that belong to it: it describes an aggregate of data fields (called instance variables), and defines the operations called methods\")\n",
    "\n",
    "print(\"object:an object is an element (or instance) of a class objects have the behaviors of their class. The object is the actual component of programs, while the class specifies how instances are created and how they behave.\")\n",
    "\n",
    "print(\"Attributes:Attributes are the individual things that differentiate one object from another and determine the appearance, state, or other qualities of that object\")\n",
    "\n",
    "print(\"Behavior:A class's behavior determines how an instance of that class operates; for example, how it will react if asked to do something by another class or object or if its internal state changes. Behavior is the only way objects can do anything to themselves or have anything done to them.\")\n",
    "\n",
    "\n",
    "\n",
    "\n",
    "\n",
    "\n",
    "\n",
    "\n"
   ]
  },
  {
   "cell_type": "code",
   "execution_count": null,
   "metadata": {},
   "outputs": [],
   "source": []
  }
 ],
 "metadata": {
  "kernelspec": {
   "display_name": "Python 3",
   "language": "python",
   "name": "python3"
  },
  "language_info": {
   "codemirror_mode": {
    "name": "ipython",
    "version": 3
   },
   "file_extension": ".py",
   "mimetype": "text/x-python",
   "name": "python",
   "nbconvert_exporter": "python",
   "pygments_lexer": "ipython3",
   "version": "3.7.4"
  }
 },
 "nbformat": 4,
 "nbformat_minor": 2
}
