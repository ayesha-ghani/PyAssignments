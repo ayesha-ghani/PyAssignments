{
 "cells": [
  {
   "cell_type": "code",
   "execution_count": 1,
   "metadata": {},
   "outputs": [
    {
     "name": "stdout",
     "output_type": "stream",
     "text": [
      "Ayesha\n",
      "Ghani\n",
      "19\n",
      "Karachi\n",
      "Ayesha\n",
      "Ghani\n",
      "19\n",
      "Karachi\n",
      "intermediate\n",
      "Ayesha\n",
      "Ghani\n",
      "19\n",
      "Karachi\n",
      "BSCS\n",
      "Ayesha\n",
      "Ghani\n",
      "19\n",
      "Karachi\n"
     ]
    }
   ],
   "source": [
    "#Question1:\n",
    "#Use a dictionary to store information about a person you know. Store their first name, last name, age,\n",
    "#and the city in which they live. You should have keys such as first_name, last_name, age, and city. Print\n",
    "#each piece of information stored in your dictionary. Add a new key value pair about qualification then\n",
    "#update the qualification value to high academic level then delete it.\n",
    "\n",
    "person_info = {    #creating dictionary\n",
    "  \"first_name\": \"Ayesha\",\n",
    "  \"last_name\": \"Ghani\",\n",
    "  \"age\": 19,\n",
    "  \"city\": \"Karachi\"\n",
    "}\n",
    "for x in person_info.values(): #printing each values\n",
    "    print(x)\n",
    "    \n",
    "person_info[\"qualification\"] = \"intermediate\" #adding new key and value\n",
    "for x in person_info.values(): \n",
    "    print(x)\n",
    "    \n",
    "    \n",
    "person_info.update({\"qualification\":\"BSCS\"}) #updating that value \n",
    "for x in person_info.values(): \n",
    "    print(x)\n",
    "\n",
    "del person_info[\"qualification\"] \n",
    "for x in person_info.values(): \n",
    "    print(x)\n"
   ]
  },
  {
   "cell_type": "code",
   "execution_count": 2,
   "metadata": {},
   "outputs": [
    {
     "name": "stdout",
     "output_type": "stream",
     "text": [
      "Karachi\n",
      "Pakistan\n",
      "14.91 Million\n",
      "It is the Sixth largest city in the world by city population.\n",
      "Geneva\n",
      "Switzerland\n",
      "495,249\n",
      "Geneva is the second most populous city in Switzerland.\n",
      "London\n",
      "England\n",
      "8.9 Million\n",
      "The Romans were the first to make London their home.\n"
     ]
    }
   ],
   "source": [
    "#Question2:\n",
    "#Make a dictionary called cities. Use the names of three cities as keys in your dictionary. Create a\n",
    "#dictionary of information about each city and include the country that the city is in, its approximate\n",
    "#population, and one fact about that city. The keys for each city’s dictionary should be something like\n",
    "#country, population, and fact. Print the name of each city and all of the information you have stored\n",
    "#about it.\n",
    "\n",
    "cities = {\n",
    "   \"city1\":\"Karachi\",\n",
    "   \"city2\":\"Geneva\",\n",
    "   \"city3\":\"London\" \n",
    "}\n",
    "city_Karachi = {\n",
    "    \"country\":\"Pakistan\",\n",
    "    \"population\":\"14.91 Million\",\n",
    "    \"fact\":\"It is the Sixth largest city in the world by city population.\"\n",
    "}\n",
    "city_Geneva = {\n",
    "    \"country\":\"Switzerland\",\n",
    "    \"population\":\"495,249\",\n",
    "    \"fact\":\"Geneva is the second most populous city in Switzerland.\"\n",
    "}\n",
    "city_London = {\n",
    "    \"country\":\"England\",\n",
    "    \"population\":\"8.9 Million\",\n",
    "    \"fact\":\"The Romans were the first to make London their home.\"\n",
    "}\n",
    "print(cities.get(\"city1\"))\n",
    "for x in city_Karachi.values():\n",
    "    print(x) \n",
    "print(cities.get(\"city2\"))\n",
    "for x in city_Geneva.values():\n",
    "    print(x) \n",
    "print(cities.get(\"city3\"))\n",
    "for x in city_London.values():\n",
    "    print(x) \n"
   ]
  },
  {
   "cell_type": "code",
   "execution_count": 3,
   "metadata": {},
   "outputs": [
    {
     "name": "stdout",
     "output_type": "stream",
     "text": [
      "your age? 65\n",
      "your ticket is of 10$\n",
      "your age? -1\n"
     ]
    }
   ],
   "source": [
    "#Question3:\n",
    "#A movie theater charges different ticket prices depending on a person’s age. If a person is under the age\n",
    "#of 3, the ticket is free; if they are between 3 and 12, the ticket is $10; and if they are over age 12, the\n",
    "#ticket is $15. Write a loop in which you ask users their age, and then tell them the cost of their movie\n",
    "#ticket.\n",
    "prompt = \"when finished enter -1\"\n",
    "\n",
    "while True:\n",
    "    age = input(\"your age? \")\n",
    "    if age == \"-1\":\n",
    "       break\n",
    "    age = int(age)\n",
    "    if age <= 3:\n",
    "        print(\"your ticket is free!!\")\n",
    "    elif age > 3 and age <= 12:\n",
    "        print(\"your ticket is of 10$\")\n",
    "    elif age > 12:\n",
    "        print(\"your ticket is of 10$\")"
   ]
  },
  {
   "cell_type": "code",
   "execution_count": 4,
   "metadata": {},
   "outputs": [
    {
     "name": "stdout",
     "output_type": "stream",
     "text": [
      "My Favorite book is MUSHAF\n"
     ]
    }
   ],
   "source": [
    "#Question4:\n",
    "#Write a function called favorite_book() that accepts one parameter, title. The function should print a\n",
    "#message, such as One of my favorite books is Alice in Wonderland. Call the function, making sure to\n",
    "#include a book title as an argument in the function call.\n",
    "\n",
    "def favorite_book(title):\n",
    "    print(\"My Favorite book is \"+title)\n",
    "    \n",
    "book_name = favorite_book(\"MUSHAF\")"
   ]
  },
  {
   "cell_type": "code",
   "execution_count": 6,
   "metadata": {},
   "outputs": [
    {
     "name": "stdout",
     "output_type": "stream",
     "text": [
      "Well, I am thinking of a number between 1 and 30.\n",
      "enter your guess.\n",
      "8\n",
      "Your guess is too low.\n"
     ]
    }
   ],
   "source": [
    "#Question5:\n",
    "#Guess the number game\n",
    "#Write a program which randomly generate a number between 1 to 30 and ask the user in input field to\n",
    "#guess the correct number. Give three chances to user guess the number and also give hint to user if\n",
    "#hidden number is greater or smaller than the number he given to input field.\n",
    "\n",
    "import random\n",
    "\n",
    "number = random.randint(1, 30)\n",
    "print('Well, I am thinking of a number between 1 and 30.')\n",
    "\n",
    "print('enter your guess.') \n",
    "guess = int(input())\n",
    "\n",
    "if guess < number:\n",
    "\n",
    "         print('Your guess is too low.') # There are eight spaces in front of print.\n",
    "\n",
    "if guess > number:\n",
    "\n",
    "         print('Your guess is too high.')\n",
    "\n",
    "if guess == number:\n",
    "        print(\"yayyy You guess right!!\")\n"
   ]
  },
  {
   "cell_type": "code",
   "execution_count": null,
   "metadata": {},
   "outputs": [],
   "source": []
  }
 ],
 "metadata": {
  "kernelspec": {
   "display_name": "Python 3",
   "language": "python",
   "name": "python3"
  },
  "language_info": {
   "codemirror_mode": {
    "name": "ipython",
    "version": 3
   },
   "file_extension": ".py",
   "mimetype": "text/x-python",
   "name": "python",
   "nbconvert_exporter": "python",
   "pygments_lexer": "ipython3",
   "version": "3.7.4"
  }
 },
 "nbformat": 4,
 "nbformat_minor": 2
}
