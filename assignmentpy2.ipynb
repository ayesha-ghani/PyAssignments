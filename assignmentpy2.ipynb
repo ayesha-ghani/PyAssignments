{
 "cells": [
  {
   "cell_type": "code",
   "execution_count": 1,
   "metadata": {},
   "outputs": [
    {
     "name": "stdout",
     "output_type": "stream",
     "text": [
      "Enter Marks in English :\t99\n",
      "Enter Marks in ICS: \t98\n",
      "Enter Marks in Statistics: \t98\n",
      "Enter Marks in Calculus: \t89\n",
      "Enter Marks in Computer Science: \t90\n",
      "Congratulations ! You have secured Grade A, and your percentage is  94.8\n"
     ]
    }
   ],
   "source": [
    "#Write a program which takes 5 inputs from user for different subject’s\n",
    "#marks, total it and generate mark sheet using grades ?\n",
    "\n",
    "a=float(input(\"Enter Marks in English :\\t\"))\n",
    "b=float(input(\"Enter Marks in ICS: \\t\"))\n",
    "c=float(input(\"Enter Marks in Statistics: \\t\"))\n",
    "d=float(input(\"Enter Marks in Calculus: \\t\"))\n",
    "e=float(input(\"Enter Marks in Computer Science: \\t\"))\n",
    "avg=((a+b+c+d+e)/500)*100\n",
    "if(avg>=85):\n",
    "    \n",
    "\tprint(\"Congratulations ! You have secured Grade A, and your percentage is \", avg)\n",
    "elif(avg>=70 and avg<85):\n",
    "\tprint(\"Congratulations ! You have secured Grade B,and your percentage is \", avg )\n",
    "elif (avg>=60 and avg<70):\n",
    "\tprint(\"Congratulations ! You have secured Grade C, and your percentage is \", avg)\n",
    "elif (avg>=50 and avg<60):\n",
    "\tprint(\"Congratulations ! You have secured Grade D, and your percentage is \", avg)\n",
    "elif (avg<50):\n",
    "\tprint( \"You are fail\")"
   ]
  },
  {
   "cell_type": "code",
   "execution_count": 2,
   "metadata": {},
   "outputs": [
    {
     "name": "stdout",
     "output_type": "stream",
     "text": [
      "Enter a number:65\n",
      "65 is Odd\n"
     ]
    }
   ],
   "source": [
    "#Write a program which take input from user and identify that the given\n",
    "#number is even or odd?\n",
    "number= int(input(\"Enter a number:\"))\n",
    "if (number % 2) == 0:\n",
    "   print(\"{0} is Even\".format(number))\n",
    "else:\n",
    "   print(\"{0} is Odd\".format(number))"
   ]
  },
  {
   "cell_type": "code",
   "execution_count": 3,
   "metadata": {},
   "outputs": [
    {
     "name": "stdout",
     "output_type": "stream",
     "text": [
      "10\n"
     ]
    }
   ],
   "source": [
    "#Write a program which print the length of the list?\n",
    "list = [1,2,3,4,5,6,7,8,9,10]\n",
    "print(len(list))"
   ]
  },
  {
   "cell_type": "code",
   "execution_count": 4,
   "metadata": {},
   "outputs": [
    {
     "name": "stdout",
     "output_type": "stream",
     "text": [
      "How many numbers are in list: 3\n",
      "Enter number 2\n",
      "Enter number 3\n",
      "Enter number 4\n",
      "Sum of elements in given list is : 9\n"
     ]
    }
   ],
   "source": [
    "#Write a Python program to sum all the numeric items in a list?\n",
    "list = []\n",
    "num = int(input('How many numbers are in list: '))\n",
    "for n in range(num):\n",
    "    numbers = int(input('Enter number '))\n",
    "    list.append(numbers)\n",
    "print(\"Sum of elements in given list is :\", sum(list))"
   ]
  },
  {
   "cell_type": "code",
   "execution_count": 5,
   "metadata": {},
   "outputs": [
    {
     "name": "stdout",
     "output_type": "stream",
     "text": [
      "How many numbers are in list: 4\n",
      "Enter number 1\n",
      "Enter number 2\n",
      "Enter number 4\n",
      "Enter number 5\n",
      "Maximum element in the list is : 5 \n",
      "Minimum element in the list is : 1\n"
     ]
    }
   ],
   "source": [
    "#Write a Python program to get the largest number from a numeric list.\n",
    "list = []\n",
    "num = int(input('How many numbers are in list: '))\n",
    "for n in range(num):\n",
    "    numbers = int(input('Enter number '))\n",
    "    list.append(numbers)\n",
    "print(\"Maximum element in the list is :\", max(list), \"\\nMinimum element in the list is :\", min(list))"
   ]
  },
  {
   "cell_type": "code",
   "execution_count": 6,
   "metadata": {},
   "outputs": [
    {
     "name": "stdout",
     "output_type": "stream",
     "text": [
      "[1, 3, 2, 1]\n"
     ]
    }
   ],
   "source": [
    "#Take a list, say for example this one:\n",
    "#a = [1, 1, 2, 3, 5, 8, 13, 21, 34, 55, 89]\n",
    "#and write a program that prints out all the elements of the list that are\n",
    "#less than 5.\n",
    "a = [1, 6, 7 ,9 ,6,7,3,2,1,7]\n",
    "x=[i for i in a if i <5]\n",
    "print(x)"
   ]
  },
  {
   "cell_type": "code",
   "execution_count": null,
   "metadata": {},
   "outputs": [],
   "source": []
  }
 ],
 "metadata": {
  "kernelspec": {
   "display_name": "Python 3",
   "language": "python",
   "name": "python3"
  },
  "language_info": {
   "codemirror_mode": {
    "name": "ipython",
    "version": 3
   },
   "file_extension": ".py",
   "mimetype": "text/x-python",
   "name": "python",
   "nbconvert_exporter": "python",
   "pygments_lexer": "ipython3",
   "version": "3.7.4"
  }
 },
 "nbformat": 4,
 "nbformat_minor": 2
}
