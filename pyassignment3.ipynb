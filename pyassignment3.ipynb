{
 "cells": [
  {
   "cell_type": "code",
   "execution_count": 1,
   "metadata": {},
   "outputs": [
    {
     "name": "stdout",
     "output_type": "stream",
     "text": [
      "Enter the first number 63\n",
      "Enter the operator /\n",
      "Enter the second number 98\n",
      "Added value is: 0.6428571428571429\n"
     ]
    }
   ],
   "source": [
    "#1. Make a calculator using Python with addition , subtraction , multiplication ,\n",
    "#division and power.\n",
    "number1 = int(input('Enter the first number '))\n",
    "operator = input('Enter the operator ')\n",
    "number2 = int(input('Enter the second number '))\n",
    "\n",
    "if operator == '+':\n",
    "    answer = number1+number2\n",
    "    print('Added value is:',answer)\n",
    "elif operator == '-':\n",
    "    answer = number1-number2\n",
    "    print('Added value is:',answer)\n",
    "elif operator == '*':\n",
    "    answer = number1*number2\n",
    "    print('Added value is:',answer)\n",
    "elif operator == '/':\n",
    "    answer = number1/number2\n",
    "    print('Added value is:',answer)\n",
    "else:\n",
    "    print('Please enter correct operator')\n"
   ]
  },
  {
   "cell_type": "code",
   "execution_count": 4,
   "metadata": {},
   "outputs": [
    {
     "name": "stdout",
     "output_type": "stream",
     "text": [
      "{'Name': 'Ayesha', 'Course': 'Python', 'Duration': '2 months'}\n"
     ]
    }
   ],
   "source": [
    "#3. Write a Python script to add a key to a dictionary\n",
    "mydictionary = {\n",
    "  \"Name\": \"Ayesha\",\n",
    "  \"Course\": \"Python\",\n",
    "  \"Duration\": \"1 month\" \n",
    "}\n",
    "mydictionary[\"Duration\"] = \"2 months\"\n",
    "print(mydictionary)"
   ]
  },
  {
   "cell_type": "code",
   "execution_count": 6,
   "metadata": {},
   "outputs": [
    {
     "name": "stdout",
     "output_type": "stream",
     "text": [
      "910\n"
     ]
    }
   ],
   "source": [
    "#4. Write a Python program to sum all the numeric items in a dictionary\n",
    "addition_dict= {'data1':680,'data2':-54,'data3':284}\n",
    "print(sum(addition_dict.values()))\n"
   ]
  },
  {
   "cell_type": "code",
   "execution_count": 13,
   "metadata": {},
   "outputs": [
    {
     "name": "stdout",
     "output_type": "stream",
     "text": [
      "[7]\n"
     ]
    }
   ],
   "source": [
    "#5. Write a program to identify duplicate values from list\n",
    "a = [1,2,7,7,7,7,7,4,6,7]\n",
    "numbers= {}\n",
    "duplicates = []\n",
    "\n",
    "for i in a:\n",
    "    if i not in numbers:\n",
    "        numbers[i] = 1\n",
    "    else:\n",
    "        if numbers[i] == 1:\n",
    "            duplicates.append(i)\n",
    "        numbers[i] += 1\n",
    "print(duplicates)"
   ]
  },
  {
   "cell_type": "code",
   "execution_count": 14,
   "metadata": {},
   "outputs": [
    {
     "name": "stdout",
     "output_type": "stream",
     "text": [
      "Key is present in the dictionary\n",
      "Key is not present in the dictionary\n"
     ]
    }
   ],
   "source": [
    "#6. Write a Python script to check if a given key already exists in a dictionary\n",
    "d = {1: 18, 2: 205, 3: 530, 4: 460, 5: 580, 6: 670}\n",
    "def key_present(i):\n",
    "  if i in d:\n",
    "      print('Key is present in the dictionary')\n",
    "  else:\n",
    "      print('Key is not present in the dictionary')\n",
    "key_present(5)\n",
    "key_present(9)"
   ]
  },
  {
   "cell_type": "code",
   "execution_count": 23,
   "metadata": {},
   "outputs": [
    {
     "name": "stdout",
     "output_type": "stream",
     "text": [
      "my List:  ['ayesha', 'rabia', 'alizey', 'sara', 'dania', 'faha']\n",
      "No, element 'how' found in List\n"
     ]
    }
   ],
   "source": [
    "#2. Write a program to check if there is any numeric value in list using for loop\n",
    "list = ['ayesha' , 'rabia', 'alizey', 'sara', 'dania', 'faha']\n",
    "\n",
    "print(\"my List: \", list)\n",
    "\n",
    "if 'how' in list :\n",
    " print(\"Yes, element 'how' found in List\")\n",
    "else:\n",
    " print(\"No, element 'how' found in List\")\n"
   ]
  },
  {
   "cell_type": "code",
   "execution_count": null,
   "metadata": {},
   "outputs": [],
   "source": []
  }
 ],
 "metadata": {
  "kernelspec": {
   "display_name": "Python 3",
   "language": "python",
   "name": "python3"
  },
  "language_info": {
   "codemirror_mode": {
    "name": "ipython",
    "version": 3
   },
   "file_extension": ".py",
   "mimetype": "text/x-python",
   "name": "python",
   "nbconvert_exporter": "python",
   "pygments_lexer": "ipython3",
   "version": "3.7.4"
  }
 },
 "nbformat": 4,
 "nbformat_minor": 2
}
